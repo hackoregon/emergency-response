{
 "cells": [
  {
   "cell_type": "code",
   "execution_count": 104,
   "metadata": {
    "collapsed": false
   },
   "outputs": [],
   "source": [
    "import os \n",
    "from dotenv import load_dotenv, find_dotenv\n",
    "import psycopg2\n",
    "import numpy as np\n",
    "import pandas as pd\n",
    "import matplotlib.pyplot as plt\n",
    "import seaborn as sns\n",
    "import sys\n",
    "%matplotlib inline"
   ]
  },
  {
   "cell_type": "code",
   "execution_count": 105,
   "metadata": {
    "collapsed": false
   },
   "outputs": [
    {
     "data": {
      "text/plain": [
       "True"
      ]
     },
     "execution_count": 105,
     "metadata": {},
     "output_type": "execute_result"
    }
   ],
   "source": [
    "# walk root diretory to find and load .env file w/ AWS host, username and password\n",
    "load_dotenv(find_dotenv('fire_var.env'))"
   ]
  },
  {
   "cell_type": "code",
   "execution_count": 106,
   "metadata": {
    "collapsed": false
   },
   "outputs": [],
   "source": [
    "# connect to postgres\n",
    "def pgconnect():\n",
    "    try:\n",
    "        conn = psycopg2.connect(database=os.environ.get(\"erdatabase\"), user=os.environ.get(\"eruser\"), \n",
    "                                password = os.environ.get(\"erpassword\"), \n",
    "                                host=os.environ.get(\"erhost\"), \n",
    "                                port=os.environ.get('port'))\n",
    "        return conn\n",
    "\n",
    "    except psycopg2.Error as e:\n",
    "        print(\"I am unable to connect to the database\")\n",
    "        print(e)\n",
    "        print(e.pgcode)\n",
    "        print(e.pgerror)\n",
    "        print(traceback.format_exc())\n",
    "        return None"
   ]
  },
  {
   "cell_type": "code",
   "execution_count": 107,
   "metadata": {
    "collapsed": true
   },
   "outputs": [],
   "source": [
    "#function to to query a table from postgres and create df.\n",
    "def pquery(QUERY):\n",
    "    '''\n",
    "    takes SQL query string, opens a cursor, and executes query in psql\n",
    "    '''\n",
    "    conn = pgconnect()\n",
    "    cur = conn.cursor()\n",
    "    \n",
    "    try:\n",
    "        print(\"SQL QUERY = \"+QUERY)\n",
    "        cur.execute(\"SET statement_timeout = 0\")\n",
    "        cur.execute(QUERY)\n",
    "        # Extract the column names and insert them in header\n",
    "        col_names = []\n",
    "        for elt in cur.description:\n",
    "            col_names.append(elt[0])    \n",
    "    \n",
    "        D = cur.fetchall() #convert query result to list\n",
    "        # Create the dataframe, passing in the list of col_names extracted from the description\n",
    "        return pd.DataFrame(D, columns=col_names)\n",
    "        \n",
    "        \n",
    "    except Exception as e:\n",
    "        print(e.pgerror)\n",
    "            \n",
    "    finally:\n",
    "        conn.close()"
   ]
  },
  {
   "cell_type": "code",
   "execution_count": 108,
   "metadata": {
    "collapsed": false
   },
   "outputs": [
    {
     "name": "stdout",
     "output_type": "stream",
     "text": [
      "SQL QUERY = SELECT incident.typenaturecode_id,\n",
      "                 incident.censustract, \n",
      "                 incident.fmarespcomp, incident.fireblock,\n",
      "                 incident.incdate, incsitfoundclass.incsitfoundclass_id, \n",
      "                 incsitfoundclass.description as incDescription, \n",
      "                 typenaturecode.description as typeDescription\n",
      "            FROM incident\n",
      "            INNER JOIN incsitfound\n",
      "                ON incident.incsitfoundprm_id = incsitfound.incsitfound_id\n",
      "            LEFT JOIN incsitfoundsub\n",
      "                ON incsitfound.incsitfoundsub_id = incsitfoundsub.incsitfoundsub_id\n",
      "            LEFT JOIN incsitfoundclass\n",
      "                ON incsitfoundsub.incsitfoundclass_id = incsitfoundclass.incsitfoundclass_id\n",
      "            LEFT JOIN typenaturecode\n",
      "               ON incident.typenaturecode_id = typenaturecode.typenaturecode_id;\n",
      "\n"
     ]
    }
   ],
   "source": [
    "QUERY1='''SELECT incident.typenaturecode_id,\n",
    "                 incident.censustract, \n",
    "                 incident.fmarespcomp, incident.fireblock,\n",
    "                 incident.incdate, incsitfoundclass.incsitfoundclass_id, \n",
    "                 incsitfoundclass.description as incDescription, \n",
    "                 typenaturecode.description as typeDescription\n",
    "            FROM incident\n",
    "            INNER JOIN incsitfound\n",
    "                ON incident.incsitfoundprm_id = incsitfound.incsitfound_id\n",
    "            LEFT JOIN incsitfoundsub\n",
    "                ON incsitfound.incsitfoundsub_id = incsitfoundsub.incsitfoundsub_id\n",
    "            LEFT JOIN incsitfoundclass\n",
    "                ON incsitfoundsub.incsitfoundclass_id = incsitfoundclass.incsitfoundclass_id\n",
    "            LEFT JOIN typenaturecode\n",
    "               ON incident.typenaturecode_id = typenaturecode.typenaturecode_id;\n",
    "'''\n",
    "df = pquery(QUERY1)"
   ]
  },
  {
   "cell_type": "code",
   "execution_count": 109,
   "metadata": {
    "collapsed": false
   },
   "outputs": [
    {
     "data": {
      "text/html": [
       "<div>\n",
       "<table border=\"1\" class=\"dataframe\">\n",
       "  <thead>\n",
       "    <tr style=\"text-align: right;\">\n",
       "      <th></th>\n",
       "      <th>typenaturecode_id</th>\n",
       "      <th>censustract</th>\n",
       "      <th>fmarespcomp</th>\n",
       "      <th>fireblock</th>\n",
       "      <th>incdate</th>\n",
       "      <th>incsitfoundclass_id</th>\n",
       "      <th>incdescription</th>\n",
       "      <th>typedescription</th>\n",
       "    </tr>\n",
       "  </thead>\n",
       "  <tbody>\n",
       "    <tr>\n",
       "      <th>0</th>\n",
       "      <td>30.0</td>\n",
       "      <td>8202</td>\n",
       "      <td>07</td>\n",
       "      <td>0727</td>\n",
       "      <td>2015-05-23</td>\n",
       "      <td>3</td>\n",
       "      <td>MEDICAL AID / RESCUE CALLS</td>\n",
       "      <td>BREATHING/1ST RESP</td>\n",
       "    </tr>\n",
       "    <tr>\n",
       "      <th>1</th>\n",
       "      <td>141.0</td>\n",
       "      <td>7300</td>\n",
       "      <td>None</td>\n",
       "      <td>1404R</td>\n",
       "      <td>2015-06-06</td>\n",
       "      <td>3</td>\n",
       "      <td>MEDICAL AID / RESCUE CALLS</td>\n",
       "      <td>TRAUMA/1ST RESP</td>\n",
       "    </tr>\n",
       "    <tr>\n",
       "      <th>2</th>\n",
       "      <td>145.0</td>\n",
       "      <td>3601</td>\n",
       "      <td>14</td>\n",
       "      <td>1412</td>\n",
       "      <td>2015-05-01</td>\n",
       "      <td>3</td>\n",
       "      <td>MEDICAL AID / RESCUE CALLS</td>\n",
       "      <td>UNKNOWN/FIRE ONLY</td>\n",
       "    </tr>\n",
       "    <tr>\n",
       "      <th>3</th>\n",
       "      <td>12.0</td>\n",
       "      <td>2100</td>\n",
       "      <td>13</td>\n",
       "      <td>1387</td>\n",
       "      <td>2016-05-06</td>\n",
       "      <td>2</td>\n",
       "      <td>OVER PRESSURE RUPTURE, EXPLOSION, OVERHEAT</td>\n",
       "      <td>AUTOMATIC FIRE ALARM-COMM</td>\n",
       "    </tr>\n",
       "    <tr>\n",
       "      <th>4</th>\n",
       "      <td>140.0</td>\n",
       "      <td>None</td>\n",
       "      <td>12</td>\n",
       "      <td>1248</td>\n",
       "      <td>2016-08-26</td>\n",
       "      <td>3</td>\n",
       "      <td>MEDICAL AID / RESCUE CALLS</td>\n",
       "      <td>TRAUMA/1ST RESP</td>\n",
       "    </tr>\n",
       "    <tr>\n",
       "      <th>5</th>\n",
       "      <td>134.0</td>\n",
       "      <td>None</td>\n",
       "      <td>None</td>\n",
       "      <td>FP</td>\n",
       "      <td>2016-10-01</td>\n",
       "      <td>3</td>\n",
       "      <td>MEDICAL AID / RESCUE CALLS</td>\n",
       "      <td>TRAFFIC ACC/1ST RESP</td>\n",
       "    </tr>\n",
       "    <tr>\n",
       "      <th>6</th>\n",
       "      <td>134.0</td>\n",
       "      <td>5600</td>\n",
       "      <td>04</td>\n",
       "      <td>L0038</td>\n",
       "      <td>2010-06-13</td>\n",
       "      <td>3</td>\n",
       "      <td>MEDICAL AID / RESCUE CALLS</td>\n",
       "      <td>TRAFFIC ACC/1ST RESP</td>\n",
       "    </tr>\n",
       "    <tr>\n",
       "      <th>7</th>\n",
       "      <td>110.0</td>\n",
       "      <td>5100</td>\n",
       "      <td>01</td>\n",
       "      <td>0109</td>\n",
       "      <td>2010-06-19</td>\n",
       "      <td>3</td>\n",
       "      <td>MEDICAL AID / RESCUE CALLS</td>\n",
       "      <td>OVERDOSE/1ST RESP</td>\n",
       "    </tr>\n",
       "    <tr>\n",
       "      <th>8</th>\n",
       "      <td>21.0</td>\n",
       "      <td>9202</td>\n",
       "      <td>07</td>\n",
       "      <td>0754</td>\n",
       "      <td>2010-07-10</td>\n",
       "      <td>3</td>\n",
       "      <td>MEDICAL AID / RESCUE CALLS</td>\n",
       "      <td>ASSAULT/1ST RESP</td>\n",
       "    </tr>\n",
       "    <tr>\n",
       "      <th>9</th>\n",
       "      <td>30.0</td>\n",
       "      <td>None</td>\n",
       "      <td>21</td>\n",
       "      <td>2151</td>\n",
       "      <td>2011-05-14</td>\n",
       "      <td>3</td>\n",
       "      <td>MEDICAL AID / RESCUE CALLS</td>\n",
       "      <td>BREATHING/1ST RESP</td>\n",
       "    </tr>\n",
       "    <tr>\n",
       "      <th>10</th>\n",
       "      <td>20.0</td>\n",
       "      <td>7600</td>\n",
       "      <td>12</td>\n",
       "      <td>1233</td>\n",
       "      <td>2010-12-17</td>\n",
       "      <td>5</td>\n",
       "      <td>SERVICE CALL</td>\n",
       "      <td>ASSAULT/1ST RESP</td>\n",
       "    </tr>\n",
       "    <tr>\n",
       "      <th>11</th>\n",
       "      <td>30.0</td>\n",
       "      <td>702</td>\n",
       "      <td>11</td>\n",
       "      <td>1106</td>\n",
       "      <td>2011-01-29</td>\n",
       "      <td>3</td>\n",
       "      <td>MEDICAL AID / RESCUE CALLS</td>\n",
       "      <td>BREATHING/1ST RESP</td>\n",
       "    </tr>\n",
       "    <tr>\n",
       "      <th>12</th>\n",
       "      <td>13.0</td>\n",
       "      <td>2901</td>\n",
       "      <td>12</td>\n",
       "      <td>1248</td>\n",
       "      <td>2011-02-07</td>\n",
       "      <td>7</td>\n",
       "      <td>FALSE CALLS</td>\n",
       "      <td>AUTOMATIC FIRE ALARM-RES</td>\n",
       "    </tr>\n",
       "    <tr>\n",
       "      <th>13</th>\n",
       "      <td>30.0</td>\n",
       "      <td>1801</td>\n",
       "      <td>19</td>\n",
       "      <td>1936</td>\n",
       "      <td>2011-02-08</td>\n",
       "      <td>3</td>\n",
       "      <td>MEDICAL AID / RESCUE CALLS</td>\n",
       "      <td>BREATHING/1ST RESP</td>\n",
       "    </tr>\n",
       "    <tr>\n",
       "      <th>14</th>\n",
       "      <td>39.0</td>\n",
       "      <td>3302</td>\n",
       "      <td>24</td>\n",
       "      <td>2427</td>\n",
       "      <td>2011-03-10</td>\n",
       "      <td>3</td>\n",
       "      <td>MEDICAL AID / RESCUE CALLS</td>\n",
       "      <td>CHEST PAIN/1ST RESP</td>\n",
       "    </tr>\n",
       "    <tr>\n",
       "      <th>15</th>\n",
       "      <td>116.0</td>\n",
       "      <td>4300</td>\n",
       "      <td>22</td>\n",
       "      <td>2201</td>\n",
       "      <td>2011-03-15</td>\n",
       "      <td>5</td>\n",
       "      <td>SERVICE CALL</td>\n",
       "      <td>PUBLIC ASSIST</td>\n",
       "    </tr>\n",
       "    <tr>\n",
       "      <th>16</th>\n",
       "      <td>12.0</td>\n",
       "      <td>4400</td>\n",
       "      <td>24</td>\n",
       "      <td>2403</td>\n",
       "      <td>2011-03-15</td>\n",
       "      <td>7</td>\n",
       "      <td>FALSE CALLS</td>\n",
       "      <td>AUTOMATIC FIRE ALARM-COMM</td>\n",
       "    </tr>\n",
       "    <tr>\n",
       "      <th>17</th>\n",
       "      <td>39.0</td>\n",
       "      <td>None</td>\n",
       "      <td>04</td>\n",
       "      <td>0406</td>\n",
       "      <td>2011-05-25</td>\n",
       "      <td>3</td>\n",
       "      <td>MEDICAL AID / RESCUE CALLS</td>\n",
       "      <td>CHEST PAIN/1ST RESP</td>\n",
       "    </tr>\n",
       "    <tr>\n",
       "      <th>18</th>\n",
       "      <td>141.0</td>\n",
       "      <td>301</td>\n",
       "      <td>25</td>\n",
       "      <td>2533</td>\n",
       "      <td>2011-05-25</td>\n",
       "      <td>3</td>\n",
       "      <td>MEDICAL AID / RESCUE CALLS</td>\n",
       "      <td>TRAUMA/1ST RESP</td>\n",
       "    </tr>\n",
       "    <tr>\n",
       "      <th>19</th>\n",
       "      <td>141.0</td>\n",
       "      <td>5600</td>\n",
       "      <td>04</td>\n",
       "      <td>0427</td>\n",
       "      <td>2011-06-04</td>\n",
       "      <td>5</td>\n",
       "      <td>SERVICE CALL</td>\n",
       "      <td>TRAUMA/1ST RESP</td>\n",
       "    </tr>\n",
       "  </tbody>\n",
       "</table>\n",
       "</div>"
      ],
      "text/plain": [
       "    typenaturecode_id censustract fmarespcomp fireblock     incdate  \\\n",
       "0                30.0        8202          07      0727  2015-05-23   \n",
       "1               141.0        7300        None     1404R  2015-06-06   \n",
       "2               145.0        3601          14      1412  2015-05-01   \n",
       "3                12.0        2100          13      1387  2016-05-06   \n",
       "4               140.0        None          12      1248  2016-08-26   \n",
       "5               134.0        None        None        FP  2016-10-01   \n",
       "6               134.0        5600          04     L0038  2010-06-13   \n",
       "7               110.0        5100          01      0109  2010-06-19   \n",
       "8                21.0        9202          07      0754  2010-07-10   \n",
       "9                30.0        None          21      2151  2011-05-14   \n",
       "10               20.0        7600          12      1233  2010-12-17   \n",
       "11               30.0         702          11      1106  2011-01-29   \n",
       "12               13.0        2901          12      1248  2011-02-07   \n",
       "13               30.0        1801          19      1936  2011-02-08   \n",
       "14               39.0        3302          24      2427  2011-03-10   \n",
       "15              116.0        4300          22      2201  2011-03-15   \n",
       "16               12.0        4400          24      2403  2011-03-15   \n",
       "17               39.0        None          04      0406  2011-05-25   \n",
       "18              141.0         301          25      2533  2011-05-25   \n",
       "19              141.0        5600          04      0427  2011-06-04   \n",
       "\n",
       "    incsitfoundclass_id                              incdescription  \\\n",
       "0                     3                  MEDICAL AID / RESCUE CALLS   \n",
       "1                     3                  MEDICAL AID / RESCUE CALLS   \n",
       "2                     3                  MEDICAL AID / RESCUE CALLS   \n",
       "3                     2  OVER PRESSURE RUPTURE, EXPLOSION, OVERHEAT   \n",
       "4                     3                  MEDICAL AID / RESCUE CALLS   \n",
       "5                     3                  MEDICAL AID / RESCUE CALLS   \n",
       "6                     3                  MEDICAL AID / RESCUE CALLS   \n",
       "7                     3                  MEDICAL AID / RESCUE CALLS   \n",
       "8                     3                  MEDICAL AID / RESCUE CALLS   \n",
       "9                     3                  MEDICAL AID / RESCUE CALLS   \n",
       "10                    5                                SERVICE CALL   \n",
       "11                    3                  MEDICAL AID / RESCUE CALLS   \n",
       "12                    7                                 FALSE CALLS   \n",
       "13                    3                  MEDICAL AID / RESCUE CALLS   \n",
       "14                    3                  MEDICAL AID / RESCUE CALLS   \n",
       "15                    5                                SERVICE CALL   \n",
       "16                    7                                 FALSE CALLS   \n",
       "17                    3                  MEDICAL AID / RESCUE CALLS   \n",
       "18                    3                  MEDICAL AID / RESCUE CALLS   \n",
       "19                    5                                SERVICE CALL   \n",
       "\n",
       "              typedescription  \n",
       "0          BREATHING/1ST RESP  \n",
       "1             TRAUMA/1ST RESP  \n",
       "2           UNKNOWN/FIRE ONLY  \n",
       "3   AUTOMATIC FIRE ALARM-COMM  \n",
       "4             TRAUMA/1ST RESP  \n",
       "5        TRAFFIC ACC/1ST RESP  \n",
       "6        TRAFFIC ACC/1ST RESP  \n",
       "7           OVERDOSE/1ST RESP  \n",
       "8            ASSAULT/1ST RESP  \n",
       "9          BREATHING/1ST RESP  \n",
       "10           ASSAULT/1ST RESP  \n",
       "11         BREATHING/1ST RESP  \n",
       "12   AUTOMATIC FIRE ALARM-RES  \n",
       "13         BREATHING/1ST RESP  \n",
       "14        CHEST PAIN/1ST RESP  \n",
       "15              PUBLIC ASSIST  \n",
       "16  AUTOMATIC FIRE ALARM-COMM  \n",
       "17        CHEST PAIN/1ST RESP  \n",
       "18            TRAUMA/1ST RESP  \n",
       "19            TRAUMA/1ST RESP  "
      ]
     },
     "execution_count": 109,
     "metadata": {},
     "output_type": "execute_result"
    }
   ],
   "source": [
    "df.head(20)"
   ]
  },
  {
   "cell_type": "code",
   "execution_count": 111,
   "metadata": {
    "collapsed": false
   },
   "outputs": [
    {
     "name": "stdout",
     "output_type": "stream",
     "text": [
      "<class 'pandas.core.frame.DataFrame'>\n",
      "RangeIndex: 512281 entries, 0 to 512280\n",
      "Data columns (total 9 columns):\n",
      "typenaturecode_id      512278 non-null float64\n",
      "censustract            510353 non-null object\n",
      "fmarespcomp            507765 non-null object\n",
      "fireblock              512186 non-null object\n",
      "incdate                512281 non-null datetime64[ns]\n",
      "incsitfoundclass_id    512281 non-null int64\n",
      "incdescription         512281 non-null object\n",
      "typedescription        512278 non-null object\n",
      "month                  512281 non-null int32\n",
      "dtypes: datetime64[ns](1), float64(1), int32(1), int64(1), object(5)\n",
      "memory usage: 33.2+ MB\n"
     ]
    }
   ],
   "source": [
    "#Convert date column to actual date. Calc a year and month column from the date column.\n",
    "# Borrow Ryan's code here.\n",
    "\n",
    "df['incdate'] = pd.to_datetime(df['incdate'])\n",
    "df['month'] = pd.DatetimeIndex(df['incdate']).month\n",
    "df.info()"
   ]
  },
  {
   "cell_type": "code",
   "execution_count": 115,
   "metadata": {
    "collapsed": false
   },
   "outputs": [],
   "source": [
    "# Make labels\n",
    "df_ = df.copy()\n",
    "df_['false'] =0\n",
    "df_.loc[df_['incsitfoundclass_id']== 7,'false']=1"
   ]
  },
  {
   "cell_type": "code",
   "execution_count": 116,
   "metadata": {
    "collapsed": true
   },
   "outputs": [],
   "source": [
    "# Make X and y\n",
    "y = df_['false']\n",
    "X = df_.loc[:,['typenaturecode_id','censustract', 'fmarespcomp', 'fireblock', 'month' ]]"
   ]
  },
  {
   "cell_type": "code",
   "execution_count": 117,
   "metadata": {
    "collapsed": false
   },
   "outputs": [
    {
     "data": {
      "text/plain": [
       "(512281, 1518)"
      ]
     },
     "execution_count": 117,
     "metadata": {},
     "output_type": "execute_result"
    }
   ],
   "source": [
    "# Encode categorical variables\n",
    "X_with_dummies = pd.get_dummies(X, prefix= list(X), prefix_sep='_',dummy_na =1,columns=list(X),sparse=1,drop_first=1)\n",
    "X_with_dummies.shape"
   ]
  },
  {
   "cell_type": "code",
   "execution_count": 118,
   "metadata": {
    "collapsed": false
   },
   "outputs": [],
   "source": [
    "# Load classifier module\n",
    "\n",
    "from sklearn.ensemble import RandomForestClassifier as rf\n",
    "from sklearn.model_selection import cross_val_score\n",
    "from sklearn.model_selection import train_test_split\n",
    "from sklearn.utils import shuffle"
   ]
  },
  {
   "cell_type": "code",
   "execution_count": 119,
   "metadata": {
    "collapsed": true
   },
   "outputs": [],
   "source": [
    "# Prepare for training data and testing data \n",
    "X_train, X_test, y_train, y_test = train_test_split(X_with_dummies, y, test_size=0.3, random_state=1)"
   ]
  },
  {
   "cell_type": "code",
   "execution_count": 95,
   "metadata": {
    "collapsed": false
   },
   "outputs": [
    {
     "data": {
      "text/plain": [
       "0.96436937647944487"
      ]
     },
     "execution_count": 95,
     "metadata": {},
     "output_type": "execute_result"
    }
   ],
   "source": [
    "# Give it a try\n",
    "clf = rf(n_estimators=60, max_features=5)\n",
    "scores = cross_val_score(clf,X_train, y_train)\n",
    "scores.mean()\n"
   ]
  },
  {
   "cell_type": "code",
   "execution_count": 97,
   "metadata": {
    "collapsed": false
   },
   "outputs": [
    {
     "data": {
      "text/plain": [
       "RandomForestClassifier(bootstrap=True, class_weight=None, criterion='gini',\n",
       "            max_depth=None, max_features=5, max_leaf_nodes=None,\n",
       "            min_impurity_split=1e-07, min_samples_leaf=1,\n",
       "            min_samples_split=2, min_weight_fraction_leaf=0.0,\n",
       "            n_estimators=60, n_jobs=-1, oob_score=False, random_state=1,\n",
       "            verbose=0, warm_start=False)"
      ]
     },
     "execution_count": 97,
     "metadata": {},
     "output_type": "execute_result"
    }
   ],
   "source": [
    "# Get a classifier \n",
    "clf =  rf(n_estimators=60, max_features=5, n_jobs=-1, random_state= 1)\n",
    "clf.fit(X_train, y_train)"
   ]
  },
  {
   "cell_type": "code",
   "execution_count": 136,
   "metadata": {
    "collapsed": false
   },
   "outputs": [
    {
     "data": {
      "text/html": [
       "<div>\n",
       "<table border=\"1\" class=\"dataframe\">\n",
       "  <thead>\n",
       "    <tr style=\"text-align: right;\">\n",
       "      <th></th>\n",
       "      <th>features</th>\n",
       "      <th>ind</th>\n",
       "    </tr>\n",
       "  </thead>\n",
       "  <tbody>\n",
       "    <tr>\n",
       "      <th>7</th>\n",
       "      <td>0.452517</td>\n",
       "      <td>typenaturecode_id_12.0</td>\n",
       "    </tr>\n",
       "    <tr>\n",
       "      <th>8</th>\n",
       "      <td>0.084879</td>\n",
       "      <td>typenaturecode_id_13.0</td>\n",
       "    </tr>\n",
       "    <tr>\n",
       "      <th>6</th>\n",
       "      <td>0.053344</td>\n",
       "      <td>typenaturecode_id_11.0</td>\n",
       "    </tr>\n",
       "    <tr>\n",
       "      <th>100</th>\n",
       "      <td>0.018900</td>\n",
       "      <td>typenaturecode_id_145.0</td>\n",
       "    </tr>\n",
       "    <tr>\n",
       "      <th>97</th>\n",
       "      <td>0.014908</td>\n",
       "      <td>typenaturecode_id_141.0</td>\n",
       "    </tr>\n",
       "    <tr>\n",
       "      <th>23</th>\n",
       "      <td>0.012125</td>\n",
       "      <td>typenaturecode_id_30.0</td>\n",
       "    </tr>\n",
       "    <tr>\n",
       "      <th>31</th>\n",
       "      <td>0.011711</td>\n",
       "      <td>typenaturecode_id_39.0</td>\n",
       "    </tr>\n",
       "    <tr>\n",
       "      <th>84</th>\n",
       "      <td>0.009907</td>\n",
       "      <td>typenaturecode_id_125.0</td>\n",
       "    </tr>\n",
       "    <tr>\n",
       "      <th>28</th>\n",
       "      <td>0.009846</td>\n",
       "      <td>typenaturecode_id_36.0</td>\n",
       "    </tr>\n",
       "    <tr>\n",
       "      <th>1514</th>\n",
       "      <td>0.008217</td>\n",
       "      <td>month_10.0</td>\n",
       "    </tr>\n",
       "    <tr>\n",
       "      <th>1513</th>\n",
       "      <td>0.008188</td>\n",
       "      <td>month_9.0</td>\n",
       "    </tr>\n",
       "    <tr>\n",
       "      <th>1510</th>\n",
       "      <td>0.008128</td>\n",
       "      <td>month_6.0</td>\n",
       "    </tr>\n",
       "    <tr>\n",
       "      <th>1516</th>\n",
       "      <td>0.008007</td>\n",
       "      <td>month_12.0</td>\n",
       "    </tr>\n",
       "    <tr>\n",
       "      <th>1507</th>\n",
       "      <td>0.007762</td>\n",
       "      <td>month_3.0</td>\n",
       "    </tr>\n",
       "    <tr>\n",
       "      <th>1512</th>\n",
       "      <td>0.007675</td>\n",
       "      <td>month_8.0</td>\n",
       "    </tr>\n",
       "    <tr>\n",
       "      <th>1509</th>\n",
       "      <td>0.007404</td>\n",
       "      <td>month_5.0</td>\n",
       "    </tr>\n",
       "    <tr>\n",
       "      <th>1511</th>\n",
       "      <td>0.007404</td>\n",
       "      <td>month_7.0</td>\n",
       "    </tr>\n",
       "    <tr>\n",
       "      <th>1515</th>\n",
       "      <td>0.007378</td>\n",
       "      <td>month_11.0</td>\n",
       "    </tr>\n",
       "    <tr>\n",
       "      <th>1506</th>\n",
       "      <td>0.007223</td>\n",
       "      <td>month_2.0</td>\n",
       "    </tr>\n",
       "    <tr>\n",
       "      <th>102</th>\n",
       "      <td>0.006829</td>\n",
       "      <td>typenaturecode_id_147.0</td>\n",
       "    </tr>\n",
       "  </tbody>\n",
       "</table>\n",
       "</div>"
      ],
      "text/plain": [
       "      features                      ind\n",
       "7     0.452517   typenaturecode_id_12.0\n",
       "8     0.084879   typenaturecode_id_13.0\n",
       "6     0.053344   typenaturecode_id_11.0\n",
       "100   0.018900  typenaturecode_id_145.0\n",
       "97    0.014908  typenaturecode_id_141.0\n",
       "23    0.012125   typenaturecode_id_30.0\n",
       "31    0.011711   typenaturecode_id_39.0\n",
       "84    0.009907  typenaturecode_id_125.0\n",
       "28    0.009846   typenaturecode_id_36.0\n",
       "1514  0.008217               month_10.0\n",
       "1513  0.008188                month_9.0\n",
       "1510  0.008128                month_6.0\n",
       "1516  0.008007               month_12.0\n",
       "1507  0.007762                month_3.0\n",
       "1512  0.007675                month_8.0\n",
       "1509  0.007404                month_5.0\n",
       "1511  0.007404                month_7.0\n",
       "1515  0.007378               month_11.0\n",
       "1506  0.007223                month_2.0\n",
       "102   0.006829  typenaturecode_id_147.0"
      ]
     },
     "execution_count": 136,
     "metadata": {},
     "output_type": "execute_result"
    }
   ],
   "source": [
    "features= clf.feature_importances_ \n",
    "ind = list(X_train)\n",
    "feature_importance = pd.DataFrame({'ind':ind,'features':features}).sort_values('features',ascending=0)\n",
    "feature_importance[:20]\n"
   ]
  },
  {
   "cell_type": "markdown",
   "metadata": {},
   "source": [
    "## Discussion\n",
    "*It looks like typenaturecode is the dominant factror on predicting the false alarm. I included it in predictive variables, assuming it is generated when dispatch occures, if I am wrong, then it is another story.*\n",
    "\n",
    "*I will go ahead to extract the 9 most important typenaturecodes. The easiest way is to re-apply the pd.get_dummies() function and re-run the whole thing.*"
   ]
  },
  {
   "cell_type": "code",
   "execution_count": 143,
   "metadata": {
    "collapsed": true
   },
   "outputs": [],
   "source": [
    "s = pd.Series(X['typenaturecode_id'])"
   ]
  },
  {
   "cell_type": "code",
   "execution_count": 147,
   "metadata": {
    "collapsed": false
   },
   "outputs": [
    {
     "data": {
      "text/plain": [
       "(512281, 227)"
      ]
     },
     "execution_count": 147,
     "metadata": {},
     "output_type": "execute_result"
    }
   ],
   "source": [
    "X_with_dummies1 = pd.get_dummies(s, dummy_na =1,drop_first=1)\n",
    "X_with_dummies1.shape"
   ]
  },
  {
   "cell_type": "code",
   "execution_count": 149,
   "metadata": {
    "collapsed": true
   },
   "outputs": [],
   "source": [
    "X_train, X_test, y_train, y_test = train_test_split(X_with_dummies1, y, test_size=0.3, random_state=1)"
   ]
  },
  {
   "cell_type": "code",
   "execution_count": 150,
   "metadata": {
    "collapsed": false
   },
   "outputs": [
    {
     "data": {
      "text/plain": [
       "RandomForestClassifier(bootstrap=True, class_weight=None, criterion='gini',\n",
       "            max_depth=None, max_features=5, max_leaf_nodes=None,\n",
       "            min_impurity_split=1e-07, min_samples_leaf=1,\n",
       "            min_samples_split=2, min_weight_fraction_leaf=0.0,\n",
       "            n_estimators=60, n_jobs=-1, oob_score=False, random_state=1,\n",
       "            verbose=0, warm_start=False)"
      ]
     },
     "execution_count": 150,
     "metadata": {},
     "output_type": "execute_result"
    }
   ],
   "source": [
    "clf =  rf(n_estimators=60, max_features=5, n_jobs=-1, random_state= 1)\n",
    "clf.fit(X_train, y_train)"
   ]
  },
  {
   "cell_type": "code",
   "execution_count": 152,
   "metadata": {
    "collapsed": false
   },
   "outputs": [
    {
     "data": {
      "text/plain": [
       "0.97190356898851549"
      ]
     },
     "execution_count": 152,
     "metadata": {},
     "output_type": "execute_result"
    }
   ],
   "source": [
    "## Check the score on test set\n",
    "clf.score(X_test,y_test)"
   ]
  },
  {
   "cell_type": "code",
   "execution_count": 155,
   "metadata": {
    "collapsed": false
   },
   "outputs": [
    {
     "data": {
      "text/html": [
       "<div>\n",
       "<table border=\"1\" class=\"dataframe\">\n",
       "  <thead>\n",
       "    <tr style=\"text-align: right;\">\n",
       "      <th></th>\n",
       "      <th>features</th>\n",
       "      <th>typenaturecode_id</th>\n",
       "    </tr>\n",
       "  </thead>\n",
       "  <tbody>\n",
       "    <tr>\n",
       "      <th>7</th>\n",
       "      <td>0.688002</td>\n",
       "      <td>12.0</td>\n",
       "    </tr>\n",
       "    <tr>\n",
       "      <th>8</th>\n",
       "      <td>0.123934</td>\n",
       "      <td>13.0</td>\n",
       "    </tr>\n",
       "    <tr>\n",
       "      <th>6</th>\n",
       "      <td>0.070648</td>\n",
       "      <td>11.0</td>\n",
       "    </tr>\n",
       "    <tr>\n",
       "      <th>100</th>\n",
       "      <td>0.015531</td>\n",
       "      <td>145.0</td>\n",
       "    </tr>\n",
       "    <tr>\n",
       "      <th>97</th>\n",
       "      <td>0.013129</td>\n",
       "      <td>141.0</td>\n",
       "    </tr>\n",
       "    <tr>\n",
       "      <th>23</th>\n",
       "      <td>0.011611</td>\n",
       "      <td>30.0</td>\n",
       "    </tr>\n",
       "    <tr>\n",
       "      <th>31</th>\n",
       "      <td>0.009282</td>\n",
       "      <td>39.0</td>\n",
       "    </tr>\n",
       "    <tr>\n",
       "      <th>28</th>\n",
       "      <td>0.008326</td>\n",
       "      <td>36.0</td>\n",
       "    </tr>\n",
       "    <tr>\n",
       "      <th>84</th>\n",
       "      <td>0.007676</td>\n",
       "      <td>125.0</td>\n",
       "    </tr>\n",
       "    <tr>\n",
       "      <th>72</th>\n",
       "      <td>0.004806</td>\n",
       "      <td>110.0</td>\n",
       "    </tr>\n",
       "  </tbody>\n",
       "</table>\n",
       "</div>"
      ],
      "text/plain": [
       "     features  typenaturecode_id\n",
       "7    0.688002               12.0\n",
       "8    0.123934               13.0\n",
       "6    0.070648               11.0\n",
       "100  0.015531              145.0\n",
       "97   0.013129              141.0\n",
       "23   0.011611               30.0\n",
       "31   0.009282               39.0\n",
       "28   0.008326               36.0\n",
       "84   0.007676              125.0\n",
       "72   0.004806              110.0"
      ]
     },
     "execution_count": 155,
     "metadata": {},
     "output_type": "execute_result"
    }
   ],
   "source": [
    "features= clf.feature_importances_ \n",
    "ind = list(X_train)\n",
    "feature_importance = pd.DataFrame({'typenaturecode_id':ind,'features':features}).sort_values('features',ascending=0)\n",
    "feature_importance[:10]"
   ]
  },
  {
   "cell_type": "markdown",
   "metadata": {},
   "source": [
    "## Discussion\n",
    "\n",
    "*OK, above is the top 10 typenaturecode_id that are related to false alarm. The results seems reasonable. Let's take a look about the fireblock.*"
   ]
  },
  {
   "cell_type": "code",
   "execution_count": 156,
   "metadata": {
    "collapsed": true
   },
   "outputs": [],
   "source": [
    "s = pd.Series(X['fireblock'])"
   ]
  },
  {
   "cell_type": "code",
   "execution_count": 157,
   "metadata": {
    "collapsed": false
   },
   "outputs": [
    {
     "data": {
      "text/plain": [
       "(512281, 931)"
      ]
     },
     "execution_count": 157,
     "metadata": {},
     "output_type": "execute_result"
    }
   ],
   "source": [
    "X_with_dummies2 = pd.get_dummies(s, dummy_na =1,drop_first=1)\n",
    "X_with_dummies2.shape"
   ]
  },
  {
   "cell_type": "code",
   "execution_count": 158,
   "metadata": {
    "collapsed": true
   },
   "outputs": [],
   "source": [
    "X_train, X_test, y_train, y_test = train_test_split(X_with_dummies2, y, test_size=0.3, random_state=1)"
   ]
  },
  {
   "cell_type": "code",
   "execution_count": 159,
   "metadata": {
    "collapsed": false
   },
   "outputs": [
    {
     "data": {
      "text/plain": [
       "RandomForestClassifier(bootstrap=True, class_weight=None, criterion='gini',\n",
       "            max_depth=None, max_features=5, max_leaf_nodes=None,\n",
       "            min_impurity_split=1e-07, min_samples_leaf=1,\n",
       "            min_samples_split=2, min_weight_fraction_leaf=0.0,\n",
       "            n_estimators=60, n_jobs=-1, oob_score=False, random_state=1,\n",
       "            verbose=0, warm_start=False)"
      ]
     },
     "execution_count": 159,
     "metadata": {},
     "output_type": "execute_result"
    }
   ],
   "source": [
    "clf =  rf(n_estimators=60, max_features=5, n_jobs=-1, random_state= 1)\n",
    "clf.fit(X_train, y_train)"
   ]
  },
  {
   "cell_type": "code",
   "execution_count": 160,
   "metadata": {
    "collapsed": false
   },
   "outputs": [
    {
     "data": {
      "text/plain": [
       "0.92322607931808565"
      ]
     },
     "execution_count": 160,
     "metadata": {},
     "output_type": "execute_result"
    }
   ],
   "source": [
    "## Check the score on test set\n",
    "clf.score(X_test,y_test)"
   ]
  },
  {
   "cell_type": "code",
   "execution_count": 161,
   "metadata": {
    "collapsed": false
   },
   "outputs": [
    {
     "data": {
      "text/html": [
       "<div>\n",
       "<table border=\"1\" class=\"dataframe\">\n",
       "  <thead>\n",
       "    <tr style=\"text-align: right;\">\n",
       "      <th></th>\n",
       "      <th>features</th>\n",
       "      <th>fireblock</th>\n",
       "    </tr>\n",
       "  </thead>\n",
       "  <tbody>\n",
       "    <tr>\n",
       "      <th>87</th>\n",
       "      <td>0.106909</td>\n",
       "      <td>0451</td>\n",
       "    </tr>\n",
       "    <tr>\n",
       "      <th>439</th>\n",
       "      <td>0.042055</td>\n",
       "      <td>2209</td>\n",
       "    </tr>\n",
       "    <tr>\n",
       "      <th>302</th>\n",
       "      <td>0.033282</td>\n",
       "      <td>1406</td>\n",
       "    </tr>\n",
       "    <tr>\n",
       "      <th>358</th>\n",
       "      <td>0.028563</td>\n",
       "      <td>1706</td>\n",
       "    </tr>\n",
       "    <tr>\n",
       "      <th>470</th>\n",
       "      <td>0.025504</td>\n",
       "      <td>2403</td>\n",
       "    </tr>\n",
       "    <tr>\n",
       "      <th>272</th>\n",
       "      <td>0.023570</td>\n",
       "      <td>1318</td>\n",
       "    </tr>\n",
       "    <tr>\n",
       "      <th>802</th>\n",
       "      <td>0.019721</td>\n",
       "      <td>FP</td>\n",
       "    </tr>\n",
       "    <tr>\n",
       "      <th>122</th>\n",
       "      <td>0.017969</td>\n",
       "      <td>0621</td>\n",
       "    </tr>\n",
       "    <tr>\n",
       "      <th>58</th>\n",
       "      <td>0.016852</td>\n",
       "      <td>0342</td>\n",
       "    </tr>\n",
       "    <tr>\n",
       "      <th>121</th>\n",
       "      <td>0.015620</td>\n",
       "      <td>0618</td>\n",
       "    </tr>\n",
       "  </tbody>\n",
       "</table>\n",
       "</div>"
      ],
      "text/plain": [
       "     features fireblock\n",
       "87   0.106909      0451\n",
       "439  0.042055      2209\n",
       "302  0.033282      1406\n",
       "358  0.028563      1706\n",
       "470  0.025504      2403\n",
       "272  0.023570      1318\n",
       "802  0.019721        FP\n",
       "122  0.017969      0621\n",
       "58   0.016852      0342\n",
       "121  0.015620      0618"
      ]
     },
     "execution_count": 161,
     "metadata": {},
     "output_type": "execute_result"
    }
   ],
   "source": [
    "features= clf.feature_importances_ \n",
    "ind = list(X_train)\n",
    "feature_importance = pd.DataFrame({'fireblock':ind,'features':features}).sort_values('features',ascending=0)\n",
    "feature_importance[:10]"
   ]
  },
  {
   "cell_type": "markdown",
   "metadata": {},
   "source": [
    "## Conclusion\n",
    "\n",
    "*So let's check the auto-alarms in these fireblocks. Hopefully this is useful information to help Portland Fire & Rescue to decrease the False Alarm rate.*\n"
   ]
  },
  {
   "cell_type": "code",
   "execution_count": null,
   "metadata": {
    "collapsed": true
   },
   "outputs": [],
   "source": []
  }
 ],
 "metadata": {
  "kernelspec": {
   "display_name": "Python 3",
   "language": "python",
   "name": "python3"
  },
  "language_info": {
   "codemirror_mode": {
    "name": "ipython",
    "version": 3
   },
   "file_extension": ".py",
   "mimetype": "text/x-python",
   "name": "python",
   "nbconvert_exporter": "python",
   "pygments_lexer": "ipython3",
   "version": "3.5.2"
  }
 },
 "nbformat": 4,
 "nbformat_minor": 2
}
